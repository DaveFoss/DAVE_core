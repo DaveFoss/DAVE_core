{
 "cells": [
  {
   "cell_type": "markdown",
   "metadata": {},
   "source": [
    "# DaVe install description"
   ]
  },
  {
   "cell_type": "markdown",
   "metadata": {},
   "source": [
    "This Tutorial will introduce you how to install DaVe with all required python packages."
   ]
  },
  {
   "cell_type": "markdown",
   "metadata": {},
   "source": [
    "## Preparation (Python and Git)"
   ]
  },
  {
   "cell_type": "markdown",
   "metadata": {},
   "source": [
    "To use DaVe it is necessary that you have allready installed python and git. Should this not be the case, you can do it by following steps (for Windows): \n",
    "\n",
    "1. Install Python. A easy way to do that, offers the Anaconda distribution. [Download Anaconda](https://www.anaconda.com/products/individual)\n",
    "2. Install Git. [Download Git](https://git-scm.com/downloads)\n",
    "3. Create a GitLab account. The GitLab server where DaVe is hosted is [GitLab IEE](https://applik-d07.iee.fraunhofer.de/users/sign_in) (You need to be within the fraunhofer iee network)\n",
    "\n",
    "Aftwerwards you installed git and created a GitLab account you have to connect them. At the following the opportunity via a SSH key is descripted.\n",
    "\n",
    "4. Open the git bash console\n",
    "5. Create a new SSH key\n",
    "\n",
    "`ssh-keygen -t rsa -b 4096 -C <your email address>`\n",
    "\n",
    "6. Answer the request \"Enter a file in which to save the Key\" by pressing Enter to save at default location\n",
    "7. Define a secure password (Note: Your password input won't be shown in the git console)\n",
    "8. Now your SSH keys are availble in your .ssh directory (`C:\\User\\<Your name>\\.ssh`)\n",
    "9. Open the id_rsa.pub file with a texteditor and copy the whole content \n",
    "10. Switch into your GitLab account and open the settings (you can find it by clicking your user image in the top right cornern)\n",
    "11. In the settings got to the tab \"SSH Keys\" and paste the content of the .pub file\n",
    "12. After adding your SSH Key, your local git is connected with your GitLab account"
   ]
  },
  {
   "cell_type": "markdown",
   "metadata": {},
   "source": [
    "## Clone the DaVe git repo"
   ]
  },
  {
   "cell_type": "markdown",
   "metadata": {},
   "source": [
    "For this step you need access to the DaVe repository. You can get it by writing a mail to tobias.banze@iee.fraunhofer.de and wait until you recieve a invite mail. After you get access, you can find the DaVe repository in GitLab under \"Your projects\". On the project overview site you can find a \"clone\" button on the upper right. Click on it will show the link for clone with ssh, which you must copy.\n",
    "\n",
    "Next open the git bash console and browse to the folder were you want to copy DaVe into. The command \"git clone\" will copy the DaVe repository into your choosen folder."
   ]
  },
  {
   "cell_type": "markdown",
   "metadata": {},
   "source": [
    "`git clone <link for clone with ssh>`"
   ]
  },
  {
   "cell_type": "markdown",
   "metadata": {},
   "source": [
    "## install required python packages"
   ]
  },
  {
   "cell_type": "markdown",
   "metadata": {},
   "source": [
    "At first update all your existing packages to use the newest version (maybe create a new anaconda enviroment if you want to keep the current package states). For that open the anaconda promt and execute the following command. "
   ]
  },
  {
   "cell_type": "markdown",
   "metadata": {},
   "source": [
    "`conda update -all`"
   ]
  },
  {
   "cell_type": "markdown",
   "metadata": {},
   "source": [
    "DaVe requires some other python packages which must installed first. The following will list these packages and show the recomended install order.\n",
    "\n",
    "- matplotlib\n",
    "- GDAL\n",
    "- fiona\n",
    "- pyproj\n",
    "- shapely  [doc](https://shapely.readthedocs.io/en/stable/manual.html)\n",
    "- rtree\n",
    "- geopandas  [doc](https://geopandas.org/index.html)\n",
    "- rasterio\n",
    "- contextily\n",
    "- decartes\n",
    "- geopy  [doc](https://geopy.readthedocs.io/en/stable/#)\n",
    "- pandapower  [doc](https://pandapower.readthedocs.io/en/latest/)\n",
    "- pandapipes  [doc](https://pandapipes.readthedocs.io/en/latest/)\n",
    "\n",
    "To install the packages you can use the pip command or the conda command in the anaconda prompt:"
   ]
  },
  {
   "cell_type": "markdown",
   "metadata": {},
   "source": [
    "`pip install <package name>`\n",
    "\n",
    "`conda install <package name>`"
   ]
  },
  {
   "cell_type": "markdown",
   "metadata": {},
   "source": [
    "Or you can install it from wheel (some packages are not availible at pip). For that maybe you can downloaded the required package from [package collection](https://www.lfd.uci.edu/~gohlke/pythonlibs/). After downloading, browse in the anaconda prompt to the folder where the wheel is and install it with the command: "
   ]
  },
  {
   "cell_type": "markdown",
   "metadata": {},
   "source": [
    "`pip install <wheelname.whl>`"
   ]
  },
  {
   "cell_type": "markdown",
   "metadata": {},
   "source": [
    "## known problems"
   ]
  },
  {
   "cell_type": "markdown",
   "metadata": {},
   "source": [
    "**Problem 1:** Could not find module 'C:\\anaconda3\\Library\\bin\\geos_c.dll' (requiered from shapely)\n",
    "\n",
    "**Solution 1:** install geos with \"conda install -c conda-forge geos\" (by using anaconda promt)\n",
    "\n",
    "**Problem 2:** Their is a problem with pyproj\n",
    "\n",
    "**Solution 2:** Try to upgrade pyproj via `pip install pyproj --upgrade`"
   ]
  },
  {
   "cell_type": "markdown",
   "metadata": {},
   "source": [
    "## add git repos to spyder ide"
   ]
  },
  {
   "cell_type": "markdown",
   "metadata": {},
   "source": [
    "This step is only necessary if you use the spyder python ide"
   ]
  },
  {
   "cell_type": "markdown",
   "metadata": {},
   "source": [
    "1. open the spyder ide\n",
    "2. go to Tools/PYTHONPATH manager\n",
    "3. click on \"add path\" and choose the folder where you copyed the git repository into\n",
    "4. Than click on \"Synchronize...\" and restart spyder"
   ]
  },
  {
   "cell_type": "markdown",
   "metadata": {},
   "source": [
    "## use DaVe only"
   ]
  },
  {
   "cell_type": "markdown",
   "metadata": {},
   "source": [
    "If you want to use DaVe only, it is recomended to work with the master branch (default). This is the latest stable version of DaVe."
   ]
  },
  {
   "cell_type": "markdown",
   "metadata": {},
   "source": [
    "## develop DaVe"
   ]
  },
  {
   "cell_type": "markdown",
   "metadata": {},
   "source": [
    "If you also want to develop DaVe, please checkout your own branch. \n",
    "\n",
    "`git checkout -b <unique name of your branch>`\n",
    "\n",
    "Note: Use a name that indicates which person develop on the branch or for which function it is."
   ]
  }
 ],
 "metadata": {
  "kernelspec": {
   "display_name": "Python 3",
   "language": "python",
   "name": "python3"
  },
  "language_info": {
   "codemirror_mode": {
    "name": "ipython",
    "version": 3
   },
   "file_extension": ".py",
   "mimetype": "text/x-python",
   "name": "python",
   "nbconvert_exporter": "python",
   "pygments_lexer": "ipython3",
   "version": "3.8.5"
  }
 },
 "nbformat": 4,
 "nbformat_minor": 4
}
