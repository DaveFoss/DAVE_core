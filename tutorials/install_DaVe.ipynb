{
 "cells": [
  {
   "cell_type": "markdown",
   "metadata": {},
   "source": [
    "# DaVe install description"
   ]
  },
  {
   "cell_type": "markdown",
   "metadata": {},
   "source": [
    "This Tutorial will introduce you how to install DaVe with all required python packages."
   ]
  },
  {
   "cell_type": "markdown",
   "metadata": {},
   "source": [
    "## Preparation (install Python and Git)"
   ]
  },
  {
   "cell_type": "markdown",
   "metadata": {},
   "source": [
    "To use DaVe it is necessary that you have allready installed python and git. Should this not be the case, you can do it by following steps (for Windows): \n",
    "\n",
    "1. Install Python. A easy way to do that, offers the Anaconda distribution. [Download Anaconda](https://www.anaconda.com/products/individual)\n",
    "2. Install Git. [Download Git](https://git-scm.com/downloads)\n",
    "3. The GitLab server where DaVe is hosted is [GitLab ZV](https://gitlab.cc-asp.fraunhofer.de/DaVe/DaVe). Every Fraunhofer employee has automaticly a account for the zentral Fraunhofer GitLab.\n",
    "\n",
    "Aftwerwards you installed git and created a GitLab account you have to connect them. At the following the opportunity via a SSH key is descripted.\n",
    "\n",
    "4. Open the git bash console\n",
    "5. Create a new SSH key\n",
    "\n",
    "`ssh-keygen -t rsa -b 4096 -C <your email address>`\n",
    "\n",
    "6. Answer the request \"Enter a file in which to save the Key\" by pressing Enter to save at default location\n",
    "7. Define a secure password (Note: Your password input won't be shown in the git console)\n",
    "8. Now your SSH keys are availble in your .ssh directory (`C:\\User\\<Your name>\\.ssh`)\n",
    "9. Open the id_rsa.pub file with a texteditor and copy the whole content \n",
    "10. Switch into your GitLab account and open the settings (you can find it by clicking your user image in the top right cornern)\n",
    "11. In the settings got to the tab \"SSH Keys\" and paste the content of the .pub file\n",
    "12. After adding your SSH Key, your local git is connected with your GitLab account"
   ]
  },
  {
   "cell_type": "markdown",
   "metadata": {},
   "source": [
    "## Clone the DaVe git repo"
   ]
  },
  {
   "cell_type": "markdown",
   "metadata": {},
   "source": [
    "For this step you need access to the DaVe repository. You can get it by writing a mail to tobias.banze@iee.fraunhofer.de and wait until you recieve a invite mail. After you get access, you can find the DaVe repository in GitLab under \"Your projects\". On the project overview site you can find a \"clone\" button on the upper right. Click on it will show the link for clone with ssh, which you must copy.\n",
    "\n",
    "Next open the git bash console and browse to the folder were you want to copy DaVe into. The command \"git clone\" will copy the DaVe repository into your choosen folder."
   ]
  },
  {
   "cell_type": "markdown",
   "metadata": {},
   "source": [
    "`git clone <link for clone with ssh>`"
   ]
  },
  {
   "cell_type": "markdown",
   "metadata": {},
   "source": [
    "## Install required python packages"
   ]
  },
  {
   "cell_type": "markdown",
   "metadata": {},
   "source": [
    "At first you have to open the anaconda propmt. It is recommended to create a new environment for DaVe were you can install all the needed packages."
   ]
  },
  {
   "cell_type": "markdown",
   "metadata": {},
   "source": [
    "### create new environment"
   ]
  },
  {
   "cell_type": "markdown",
   "metadata": {},
   "source": [
    "If you want to create a new environment you have to execute the following commands in the anaconda prompt. For the environment name you can choose anyone you like (e.g. \"dave\")."
   ]
  },
  {
   "cell_type": "markdown",
   "metadata": {},
   "source": [
    "`conda create -n <name_for_environment> python=3.8`"
   ]
  },
  {
   "cell_type": "markdown",
   "metadata": {},
   "source": [
    "`conda activate <name_for_environment>`"
   ]
  },
  {
   "cell_type": "markdown",
   "metadata": {},
   "source": [
    "**Note**: If you want to use the spyder ide you need to install it also in this environment. For that you can execute the command below. \n",
    "\n",
    "`conda install spyder`"
   ]
  },
  {
   "cell_type": "markdown",
   "metadata": {},
   "source": [
    "### install packages"
   ]
  },
  {
   "cell_type": "markdown",
   "metadata": {},
   "source": [
    "After you have chosen your favorite environment it is recommended to add the conda forge channel"
   ]
  },
  {
   "cell_type": "markdown",
   "metadata": {},
   "source": [
    "`conda config --add channels conda-forge`\n",
    "\n",
    "`conda config --set channel_priority strict`"
   ]
  },
  {
   "cell_type": "markdown",
   "metadata": {},
   "source": [
    "DaVe requires some python packages which must installed. The following will list these packages. A current Version of this list you will also find in the requirement.txt and requirements_dev.txt files at the DaVe folder.\n",
    "\n",
    "- Shapely  [doc](https://shapely.readthedocs.io/en/stable/manual.html)\n",
    "- GDAL\n",
    "- Fiona\n",
    "- pyproj\n",
    "- Rtree\n",
    "- geopandas  [doc](https://geopandas.org/index.html)\n",
    "- matplotlib\n",
    "- geopy  [doc](https://geopy.readthedocs.io/en/stable/#)\n",
    "- decartes\n",
    "- pandapower  [doc](https://pandapower.readthedocs.io/en/latest/)\n",
    "- rasterio\n",
    "- contextily\n",
    "- tqdm\n",
    "- fastapi\n",
    "- uvicorn\n",
    "- pytest\n",
    "- pytest-cov\n",
    "- pytest-xdist\n",
    "- pre-commit\n",
    "- isort\n",
    "- pandapipes  [doc](https://pandapipes.readthedocs.io/en/latest/)\n",
    "- pytables"
   ]
  },
  {
   "cell_type": "markdown",
   "metadata": {},
   "source": [
    "The most of these packages you can install automatically. For that browse within the anaconda prompt to the DaVe folder and execute the following command. \n",
    "\n",
    "`conda install --file requirements.txt` if you want to use DaVe\n",
    "\n",
    "`conda install --file requirements_dev.txt` if you want to develop DaVe\n",
    "\n",
    "**Note**: the development requirement file includes some additional packages which are only necessary for development"
   ]
  },
  {
   "cell_type": "markdown",
   "metadata": {},
   "source": [
    "At this time the pandapipes package is not available at any conda channel, so it won't be installed automatically. To install this missing package use the pip command. "
   ]
  },
  {
   "cell_type": "markdown",
   "metadata": {},
   "source": [
    "`pip install pandapipes`"
   ]
  },
  {
   "cell_type": "markdown",
   "metadata": {},
   "source": [
    "### install pre-commit in local git repo for git hooks "
   ]
  },
  {
   "cell_type": "markdown",
   "metadata": {},
   "source": [
    "At the development of DaVe there will be used pre commit hooks for a consistent code style. To get this run you have to install pre commit in the git repo. For that you have to browse into your local DaVe git repo within the anaconda prompt and run the following command:   "
   ]
  },
  {
   "cell_type": "markdown",
   "metadata": {},
   "source": [
    "`pre-commit install`"
   ]
  },
  {
   "cell_type": "markdown",
   "metadata": {},
   "source": [
    "After that installation you have to browse within your local DaVe git repo in the folder `/.git/hooks` and open the file `pre-commit`. In this file go to the first line and replace `#!/usr/bin/env python` with the location of the python.exe that you going to use. For example: `#!/usr/bin/env C:\\\\anaconda3\\\\envs\\\\dave\\\\python.exe`. Save the file. If anything went wrong you will receieve a `python permission denied`failure while using the pre commit hooks"
   ]
  },
  {
   "cell_type": "markdown",
   "metadata": {},
   "source": [
    "The last Step is to prevent the `ImportError: DLL load failed while importing _sqlite3`failure. For that please download `sqlite-dll` from [sqlite.org](https://www.sqlite.org/download.html) and add the file to the DLL folder in your python environment. For example: `C:\\anaconda3\\envs\\dave\\DLLs`"
   ]
  },
  {
   "cell_type": "markdown",
   "metadata": {},
   "source": [
    "### Alternative installation"
   ]
  },
  {
   "cell_type": "markdown",
   "metadata": {},
   "source": [
    "If there are any problems during the installation you can try to install the packages manually by using the conda and pip commands"
   ]
  },
  {
   "cell_type": "markdown",
   "metadata": {},
   "source": [
    "`conda install <package name>`\n",
    "\n",
    "`pip install <package name>`"
   ]
  },
  {
   "cell_type": "markdown",
   "metadata": {},
   "source": [
    "Or you can install it from wheel (if packages are not availible at conda and pip). For that maybe you can downloaded the required package from [package collection](https://www.lfd.uci.edu/~gohlke/pythonlibs/). After downloading, browse within the anaconda prompt to the folder where the wheel is and install it with the command below. "
   ]
  },
  {
   "cell_type": "markdown",
   "metadata": {},
   "source": [
    "`pip install <wheelname.whl>`"
   ]
  },
  {
   "cell_type": "markdown",
   "metadata": {},
   "source": [
    "## Known problems"
   ]
  },
  {
   "cell_type": "markdown",
   "metadata": {},
   "source": [
    "**Problem 1:** Could not find module 'C:\\anaconda3\\Library\\bin\\geos_c.dll' (requiered from shapely)\n",
    "\n",
    "**Solution 1:** install geos with `conda install geos` (by using anaconda promt)\n",
    "\n",
    "**Problem 2:** Their is a problem with pyproj\n",
    "\n",
    "**Solution 2:** Try to upgrade pyproj via `pip install pyproj --upgrade`"
   ]
  },
  {
   "cell_type": "markdown",
   "metadata": {},
   "source": [
    "## Useful informations for the ide configuration"
   ]
  },
  {
   "cell_type": "markdown",
   "metadata": {},
   "source": [
    "### set favorite environment as used python interpreter at spyder ide"
   ]
  },
  {
   "cell_type": "markdown",
   "metadata": {},
   "source": [
    "1. open the spyder ide\n",
    "2. go to Tools/Preferences/Python interpreter\n",
    "3. click on \"Use the following Python interpreter\" and chose the environment you want to use\n",
    "4. restart spyder kernel"
   ]
  },
  {
   "cell_type": "markdown",
   "metadata": {},
   "source": [
    "### Add package folder to spyder ide"
   ]
  },
  {
   "cell_type": "markdown",
   "metadata": {},
   "source": [
    "1. open the spyder ide\n",
    "2. go to Tools/PYTHONPATH manager\n",
    "3. click on \"add path\" and choose the folder where you copyed the git repository into\n",
    "4. Than click on \"Synchronize...\" and restart spyder"
   ]
  },
  {
   "cell_type": "markdown",
   "metadata": {},
   "source": [
    "### set favorite environment as used python interpreter at PyCharm ide"
   ]
  },
  {
   "cell_type": "markdown",
   "metadata": {},
   "source": [
    "1. open your project in the PyCharm ide\n",
    "2. If you open a new project, you will asked about the python interpreter. At a existing project you can set the python interpreter at `File/Settings/Project:<project_name>/Python Interpreter`\n",
    "3. At \"Previously configured interpreter\" you can choose the existing interpreter you like\n",
    "4. If you can't choose a interpreter or your favorite is not listed, click on the button on the right side (with the three dots)\n",
    "5. A window will open wehre you can add a interpreter. At the tab \"Conda Environment\" you can add the environment you have created at a previous step"
   ]
  },
  {
   "cell_type": "markdown",
   "metadata": {},
   "source": [
    "### Add package folder to a PyCharm project"
   ]
  },
  {
   "cell_type": "markdown",
   "metadata": {},
   "source": [
    "1. open your project in the PyCharm ide\n",
    "2. go to `File/Settings/Project:<project_name>/Project Structure`\n",
    "3. click on \"Add Content Root\" for adding your package folder path\n",
    "4. browse to the folder which should added and confirm your selection\n",
    "5. mark the (sub)folder where the code is within as Source\n",
    "6. apply your changes\n",
    "\n",
    "**Hint:** With this method you add the package only for the choosen project"
   ]
  },
  {
   "cell_type": "markdown",
   "metadata": {},
   "source": [
    "## Use DaVe only"
   ]
  },
  {
   "cell_type": "markdown",
   "metadata": {},
   "source": [
    "If you want to use DaVe only, it is recommended to work with the master branch (default). This is the latest stable version of DaVe."
   ]
  },
  {
   "cell_type": "markdown",
   "metadata": {},
   "source": [
    "## Develop DaVe"
   ]
  },
  {
   "cell_type": "markdown",
   "metadata": {},
   "source": [
    "Please look at the tutorial \"dave_develop\" to learn more about the used workflow and the tutorial \"dave_guide\" to find some helpful ways for a better code development.\n",
    "\n",
    "**Note**: Both tutorials are currently under construction and will coming soon."
   ]
  }
 ],
 "metadata": {
  "kernelspec": {
   "display_name": "Python 3",
   "language": "python",
   "name": "python3"
  },
  "language_info": {
   "codemirror_mode": {
    "name": "ipython",
    "version": 3
   },
   "file_extension": ".py",
   "mimetype": "text/x-python",
   "name": "python",
   "nbconvert_exporter": "python",
   "pygments_lexer": "ipython3",
   "version": "3.8.5"
  }
 },
 "nbformat": 4,
 "nbformat_minor": 4
}
